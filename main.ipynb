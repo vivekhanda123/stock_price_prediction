{
 "cells": [
  {
   "cell_type": "code",
   "execution_count": 1,
   "metadata": {},
   "outputs": [
    {
     "ename": "ModuleNotFoundError",
     "evalue": "No module named 'pandas'",
     "output_type": "error",
     "traceback": [
      "\u001b[1;31m---------------------------------------------------------------------------\u001b[0m",
      "\u001b[1;31mModuleNotFoundError\u001b[0m                       Traceback (most recent call last)",
      "Cell \u001b[1;32mIn[1], line 4\u001b[0m\n\u001b[0;32m      2\u001b[0m \u001b[39mimport\u001b[39;00m \u001b[39mos\u001b[39;00m\n\u001b[0;32m      3\u001b[0m \u001b[39mimport\u001b[39;00m \u001b[39mnumpy\u001b[39;00m \u001b[39mas\u001b[39;00m \u001b[39mnp\u001b[39;00m\n\u001b[1;32m----> 4\u001b[0m \u001b[39mimport\u001b[39;00m \u001b[39mpandas\u001b[39;00m \u001b[39mas\u001b[39;00m \u001b[39mpd\u001b[39;00m\n\u001b[0;32m      5\u001b[0m \u001b[39mimport\u001b[39;00m \u001b[39mmatplotlib\u001b[39;00m\u001b[39m.\u001b[39;00m\u001b[39mpyplot\u001b[39;00m \u001b[39mas\u001b[39;00m \u001b[39mplt\u001b[39;00m\n\u001b[0;32m      6\u001b[0m get_ipython()\u001b[39m.\u001b[39mrun_line_magic(\u001b[39m'\u001b[39m\u001b[39mmatplotlib\u001b[39m\u001b[39m'\u001b[39m, \u001b[39m'\u001b[39m\u001b[39minline\u001b[39m\u001b[39m'\u001b[39m)\n",
      "\u001b[1;31mModuleNotFoundError\u001b[0m: No module named 'pandas'"
     ]
    }
   ],
   "source": [
    "# Import Libraries\n",
    "import os\n",
    "import numpy as np\n",
    "import pandas as pd\n",
    "import matplotlib.pyplot as plt\n",
    "%matplotlib inline"
   ]
  },
  {
   "cell_type": "code",
   "execution_count": 20,
   "metadata": {},
   "outputs": [
    {
     "data": {
      "text/html": [
       "<div>\n",
       "<style scoped>\n",
       "    .dataframe tbody tr th:only-of-type {\n",
       "        vertical-align: middle;\n",
       "    }\n",
       "\n",
       "    .dataframe tbody tr th {\n",
       "        vertical-align: top;\n",
       "    }\n",
       "\n",
       "    .dataframe thead th {\n",
       "        text-align: right;\n",
       "    }\n",
       "</style>\n",
       "<table border=\"1\" class=\"dataframe\">\n",
       "  <thead>\n",
       "    <tr style=\"text-align: right;\">\n",
       "      <th></th>\n",
       "      <th>Date</th>\n",
       "      <th>Open</th>\n",
       "      <th>High</th>\n",
       "      <th>Low</th>\n",
       "      <th>Close</th>\n",
       "      <th>Volume</th>\n",
       "    </tr>\n",
       "  </thead>\n",
       "  <tbody>\n",
       "    <tr>\n",
       "      <th>0</th>\n",
       "      <td>1/2/2013</td>\n",
       "      <td>357.385559</td>\n",
       "      <td>361.151062</td>\n",
       "      <td>355.959839</td>\n",
       "      <td>359.288177</td>\n",
       "      <td>5115500</td>\n",
       "    </tr>\n",
       "    <tr>\n",
       "      <th>1</th>\n",
       "      <td>1/3/2013</td>\n",
       "      <td>360.122742</td>\n",
       "      <td>363.600128</td>\n",
       "      <td>358.031342</td>\n",
       "      <td>359.496826</td>\n",
       "      <td>4666500</td>\n",
       "    </tr>\n",
       "    <tr>\n",
       "      <th>2</th>\n",
       "      <td>1/4/2013</td>\n",
       "      <td>362.313507</td>\n",
       "      <td>368.339294</td>\n",
       "      <td>361.488861</td>\n",
       "      <td>366.600616</td>\n",
       "      <td>5562800</td>\n",
       "    </tr>\n",
       "    <tr>\n",
       "      <th>3</th>\n",
       "      <td>1/7/2013</td>\n",
       "      <td>365.348755</td>\n",
       "      <td>367.301056</td>\n",
       "      <td>362.929504</td>\n",
       "      <td>365.001007</td>\n",
       "      <td>3332900</td>\n",
       "    </tr>\n",
       "    <tr>\n",
       "      <th>4</th>\n",
       "      <td>1/8/2013</td>\n",
       "      <td>365.393463</td>\n",
       "      <td>365.771027</td>\n",
       "      <td>359.874359</td>\n",
       "      <td>364.280701</td>\n",
       "      <td>3373900</td>\n",
       "    </tr>\n",
       "  </tbody>\n",
       "</table>\n",
       "</div>"
      ],
      "text/plain": [
       "       Date        Open        High         Low       Close   Volume\n",
       "0  1/2/2013  357.385559  361.151062  355.959839  359.288177  5115500\n",
       "1  1/3/2013  360.122742  363.600128  358.031342  359.496826  4666500\n",
       "2  1/4/2013  362.313507  368.339294  361.488861  366.600616  5562800\n",
       "3  1/7/2013  365.348755  367.301056  362.929504  365.001007  3332900\n",
       "4  1/8/2013  365.393463  365.771027  359.874359  364.280701  3373900"
      ]
     },
     "execution_count": 20,
     "metadata": {},
     "output_type": "execute_result"
    }
   ],
   "source": [
    "# Loading training dataset\n",
    "dataset_train = pd.read_csv(\"trainset.csv\")\n",
    "dataset_train.head()"
   ]
  },
  {
   "cell_type": "code",
   "execution_count": 21,
   "metadata": {},
   "outputs": [
    {
     "name": "stdout",
     "output_type": "stream",
     "text": [
      "[[ 357.385559]\n",
      " [ 360.122742]\n",
      " [ 362.313507]\n",
      " ...\n",
      " [1057.390015]\n",
      " [1051.599976]\n",
      " [1046.719971]]\n",
      "(1259, 1)\n"
     ]
    }
   ],
   "source": [
    "training_set = dataset_train.iloc[:, 1:2].values\n",
    "\n",
    "print(training_set)\n",
    "print(training_set.shape)"
   ]
  },
  {
   "cell_type": "code",
   "execution_count": 22,
   "metadata": {},
   "outputs": [
    {
     "data": {
      "text/plain": [
       "array([[0.01011148],\n",
       "       [0.01388614],\n",
       "       [0.01690727],\n",
       "       ...,\n",
       "       [0.97543954],\n",
       "       [0.9674549 ],\n",
       "       [0.96072522]])"
      ]
     },
     "execution_count": 22,
     "metadata": {},
     "output_type": "execute_result"
    }
   ],
   "source": [
    "# normalizing the dataset\n",
    "from sklearn.preprocessing import MinMaxScaler\n",
    "\n",
    "scaler = MinMaxScaler(feature_range = (0, 1))\n",
    "scaled_training_set = scaler.fit_transform(training_set)\n",
    "scaled_training_set"
   ]
  },
  {
   "cell_type": "code",
   "execution_count": 23,
   "metadata": {},
   "outputs": [
    {
     "name": "stdout",
     "output_type": "stream",
     "text": [
      "(1199, 60)\n",
      "(1199,)\n"
     ]
    }
   ],
   "source": [
    "X_train = []\n",
    "Y_train = []\n",
    "for i in range(60, 1259):\n",
    "    X_train.append(scaled_training_set[i-60:i, 0])\n",
    "    Y_train.append(scaled_training_set[i, 0])\n",
    "X_train = np.array(X_train)\n",
    "Y_train = np.array(Y_train)\n",
    "print(X_train.shape)\n",
    "print(Y_train.shape)"
   ]
  },
  {
   "cell_type": "code",
   "execution_count": 24,
   "metadata": {},
   "outputs": [
    {
     "data": {
      "text/plain": [
       "(1199, 60, 1)"
      ]
     },
     "execution_count": 24,
     "metadata": {},
     "output_type": "execute_result"
    }
   ],
   "source": [
    "# reshape the data\n",
    "X_train = np.reshape(X_train, (X_train.shape[0], X_train.shape[1], 1))\n",
    "X_train.shape"
   ]
  },
  {
   "cell_type": "code",
   "execution_count": 25,
   "metadata": {},
   "outputs": [],
   "source": [
    "from keras.models import Sequential\n",
    "from keras.layers import LSTM\n",
    "from keras.layers import Dense\n",
    "from keras.layers import Dropout"
   ]
  },
  {
   "cell_type": "code",
   "execution_count": 27,
   "metadata": {},
   "outputs": [],
   "source": [
    "regressor = Sequential()\n",
    "\n",
    "regressor.add(LSTM(units = 50, return_sequences= True, input_shape = (X_train.shape[1], 1)))\n",
    "regressor.add(Dropout(0.2))\n",
    "\n",
    "regressor.add(LSTM(units = 50, return_sequences = True))\n",
    "regressor.add(Dropout(0.2))\n",
    "\n",
    "regressor.add(LSTM(units=50, return_sequences=True))\n",
    "regressor.add(Dropout(0.2))\n",
    "\n",
    "regressor.add(LSTM(units = 50))\n",
    "regressor.add(Dropout(0.2))\n",
    "\n",
    "regressor.add(Dense(units = 1))"
   ]
  },
  {
   "cell_type": "code",
   "execution_count": 28,
   "metadata": {},
   "outputs": [
    {
     "name": "stdout",
     "output_type": "stream",
     "text": [
      "Epoch 1/100\n",
      "38/38 [==============================] - 19s 178ms/step - loss: 0.0362\n",
      "Epoch 2/100\n",
      "38/38 [==============================] - 6s 167ms/step - loss: 0.0044\n",
      "Epoch 3/100\n",
      "38/38 [==============================] - 6s 164ms/step - loss: 0.0038\n",
      "Epoch 4/100\n",
      "38/38 [==============================] - 6s 170ms/step - loss: 0.0038\n",
      "Epoch 5/100\n",
      "38/38 [==============================] - 6s 171ms/step - loss: 0.0034\n",
      "Epoch 6/100\n",
      "38/38 [==============================] - 6s 170ms/step - loss: 0.0038\n",
      "Epoch 7/100\n",
      "38/38 [==============================] - 8s 195ms/step - loss: 0.0038\n",
      "Epoch 8/100\n",
      "38/38 [==============================] - 7s 177ms/step - loss: 0.0035\n",
      "Epoch 9/100\n",
      "38/38 [==============================] - 7s 174ms/step - loss: 0.0032\n",
      "Epoch 10/100\n",
      "38/38 [==============================] - 6s 161ms/step - loss: 0.0031\n",
      "Epoch 11/100\n",
      "38/38 [==============================] - 6s 168ms/step - loss: 0.0029\n",
      "Epoch 12/100\n",
      "38/38 [==============================] - 7s 197ms/step - loss: 0.0029\n",
      "Epoch 13/100\n",
      "38/38 [==============================] - 8s 216ms/step - loss: 0.0030\n",
      "Epoch 14/100\n",
      "38/38 [==============================] - 8s 199ms/step - loss: 0.0028\n",
      "Epoch 15/100\n",
      "38/38 [==============================] - 7s 190ms/step - loss: 0.0030\n",
      "Epoch 16/100\n",
      "38/38 [==============================] - 6s 170ms/step - loss: 0.0027\n",
      "Epoch 17/100\n",
      "38/38 [==============================] - 6s 153ms/step - loss: 0.0029\n",
      "Epoch 18/100\n",
      "38/38 [==============================] - 7s 178ms/step - loss: 0.0029\n",
      "Epoch 19/100\n",
      "38/38 [==============================] - 7s 195ms/step - loss: 0.0024\n",
      "Epoch 20/100\n",
      "38/38 [==============================] - 7s 194ms/step - loss: 0.0023\n",
      "Epoch 21/100\n",
      "38/38 [==============================] - 8s 203ms/step - loss: 0.0026\n",
      "Epoch 22/100\n",
      "38/38 [==============================] - 6s 161ms/step - loss: 0.0026\n",
      "Epoch 23/100\n",
      "38/38 [==============================] - 7s 195ms/step - loss: 0.0025\n",
      "Epoch 24/100\n",
      "38/38 [==============================] - 8s 196ms/step - loss: 0.0024\n",
      "Epoch 25/100\n",
      "38/38 [==============================] - 8s 211ms/step - loss: 0.0031\n",
      "Epoch 26/100\n",
      "38/38 [==============================] - 9s 250ms/step - loss: 0.0029\n",
      "Epoch 27/100\n",
      "38/38 [==============================] - 8s 200ms/step - loss: 0.0024\n",
      "Epoch 28/100\n",
      "38/38 [==============================] - 7s 185ms/step - loss: 0.0022\n",
      "Epoch 29/100\n",
      "38/38 [==============================] - 9s 228ms/step - loss: 0.0022\n",
      "Epoch 30/100\n",
      "38/38 [==============================] - 8s 201ms/step - loss: 0.0021\n",
      "Epoch 31/100\n",
      "38/38 [==============================] - 7s 172ms/step - loss: 0.0020\n",
      "Epoch 32/100\n",
      "38/38 [==============================] - 8s 206ms/step - loss: 0.0023\n",
      "Epoch 33/100\n",
      "38/38 [==============================] - 8s 203ms/step - loss: 0.0021\n",
      "Epoch 34/100\n",
      "38/38 [==============================] - 7s 189ms/step - loss: 0.0020\n",
      "Epoch 35/100\n",
      "38/38 [==============================] - 8s 214ms/step - loss: 0.0020\n",
      "Epoch 36/100\n",
      "38/38 [==============================] - 7s 191ms/step - loss: 0.0021\n",
      "Epoch 37/100\n",
      "38/38 [==============================] - 7s 183ms/step - loss: 0.0024\n",
      "Epoch 38/100\n",
      "38/38 [==============================] - 7s 177ms/step - loss: 0.0020\n",
      "Epoch 39/100\n",
      "38/38 [==============================] - 7s 171ms/step - loss: 0.0020\n",
      "Epoch 40/100\n",
      "38/38 [==============================] - 6s 166ms/step - loss: 0.0021\n",
      "Epoch 41/100\n",
      "38/38 [==============================] - 8s 201ms/step - loss: 0.0020\n",
      "Epoch 42/100\n",
      "38/38 [==============================] - 10s 266ms/step - loss: 0.0018\n",
      "Epoch 43/100\n",
      "38/38 [==============================] - 8s 209ms/step - loss: 0.0018\n",
      "Epoch 44/100\n",
      "38/38 [==============================] - 9s 231ms/step - loss: 0.0017\n",
      "Epoch 45/100\n",
      "38/38 [==============================] - 8s 212ms/step - loss: 0.0017\n",
      "Epoch 46/100\n",
      "38/38 [==============================] - 6s 150ms/step - loss: 0.0019\n",
      "Epoch 47/100\n",
      "38/38 [==============================] - 6s 152ms/step - loss: 0.0018\n",
      "Epoch 48/100\n",
      "38/38 [==============================] - 7s 187ms/step - loss: 0.0020\n",
      "Epoch 49/100\n",
      "38/38 [==============================] - 6s 166ms/step - loss: 0.0017\n",
      "Epoch 50/100\n",
      "38/38 [==============================] - 7s 188ms/step - loss: 0.0016\n",
      "Epoch 51/100\n",
      "38/38 [==============================] - 6s 162ms/step - loss: 0.0017\n",
      "Epoch 52/100\n",
      "38/38 [==============================] - 7s 196ms/step - loss: 0.0017\n",
      "Epoch 53/100\n",
      "38/38 [==============================] - 7s 187ms/step - loss: 0.0016\n",
      "Epoch 54/100\n",
      "38/38 [==============================] - 7s 186ms/step - loss: 0.0016\n",
      "Epoch 55/100\n",
      "38/38 [==============================] - 7s 171ms/step - loss: 0.0017\n",
      "Epoch 56/100\n",
      "38/38 [==============================] - 7s 180ms/step - loss: 0.0016\n",
      "Epoch 57/100\n",
      "38/38 [==============================] - 6s 154ms/step - loss: 0.0018\n",
      "Epoch 58/100\n",
      "38/38 [==============================] - 8s 219ms/step - loss: 0.0017\n",
      "Epoch 59/100\n",
      "38/38 [==============================] - 7s 181ms/step - loss: 0.0015\n",
      "Epoch 60/100\n",
      "38/38 [==============================] - 6s 162ms/step - loss: 0.0016\n",
      "Epoch 61/100\n",
      "38/38 [==============================] - 7s 173ms/step - loss: 0.0015\n",
      "Epoch 62/100\n",
      "38/38 [==============================] - 8s 209ms/step - loss: 0.0015\n",
      "Epoch 63/100\n",
      "38/38 [==============================] - 6s 160ms/step - loss: 0.0014\n",
      "Epoch 64/100\n",
      "38/38 [==============================] - 7s 188ms/step - loss: 0.0014\n",
      "Epoch 65/100\n",
      "38/38 [==============================] - 8s 198ms/step - loss: 0.0016\n",
      "Epoch 66/100\n",
      "38/38 [==============================] - 7s 182ms/step - loss: 0.0014\n",
      "Epoch 67/100\n",
      "38/38 [==============================] - 7s 179ms/step - loss: 0.0014\n",
      "Epoch 68/100\n",
      "38/38 [==============================] - 7s 174ms/step - loss: 0.0016\n",
      "Epoch 69/100\n",
      "38/38 [==============================] - 7s 174ms/step - loss: 0.0014\n",
      "Epoch 70/100\n",
      "38/38 [==============================] - 7s 175ms/step - loss: 0.0013\n",
      "Epoch 71/100\n",
      "38/38 [==============================] - 7s 173ms/step - loss: 0.0014\n",
      "Epoch 72/100\n",
      "38/38 [==============================] - 7s 172ms/step - loss: 0.0014\n",
      "Epoch 73/100\n",
      "38/38 [==============================] - 7s 181ms/step - loss: 0.0015\n",
      "Epoch 74/100\n",
      "38/38 [==============================] - 7s 196ms/step - loss: 0.0014\n",
      "Epoch 75/100\n",
      "38/38 [==============================] - 6s 150ms/step - loss: 0.0015\n",
      "Epoch 76/100\n",
      "38/38 [==============================] - 6s 151ms/step - loss: 0.0013\n",
      "Epoch 77/100\n",
      "38/38 [==============================] - 6s 150ms/step - loss: 0.0013\n",
      "Epoch 78/100\n",
      "38/38 [==============================] - 6s 146ms/step - loss: 0.0015\n",
      "Epoch 79/100\n",
      "38/38 [==============================] - 6s 149ms/step - loss: 0.0014\n",
      "Epoch 80/100\n",
      "38/38 [==============================] - 6s 145ms/step - loss: 0.0012\n",
      "Epoch 81/100\n",
      "38/38 [==============================] - 6s 148ms/step - loss: 0.0015\n",
      "Epoch 82/100\n",
      "38/38 [==============================] - 6s 145ms/step - loss: 0.0013\n",
      "Epoch 83/100\n",
      "38/38 [==============================] - 6s 144ms/step - loss: 0.0015\n",
      "Epoch 84/100\n",
      "38/38 [==============================] - 6s 146ms/step - loss: 0.0013\n",
      "Epoch 85/100\n",
      "38/38 [==============================] - 6s 145ms/step - loss: 0.0012\n",
      "Epoch 86/100\n",
      "38/38 [==============================] - 6s 151ms/step - loss: 0.0012\n",
      "Epoch 87/100\n",
      "38/38 [==============================] - 6s 151ms/step - loss: 0.0012\n",
      "Epoch 88/100\n",
      "38/38 [==============================] - 6s 144ms/step - loss: 0.0012\n",
      "Epoch 89/100\n",
      "38/38 [==============================] - 6s 146ms/step - loss: 0.0012\n",
      "Epoch 90/100\n",
      "38/38 [==============================] - 6s 147ms/step - loss: 0.0011\n",
      "Epoch 91/100\n",
      "38/38 [==============================] - 6s 147ms/step - loss: 0.0011\n",
      "Epoch 92/100\n",
      "38/38 [==============================] - 6s 147ms/step - loss: 0.0012\n",
      "Epoch 93/100\n",
      "38/38 [==============================] - 6s 149ms/step - loss: 0.0011\n",
      "Epoch 94/100\n",
      "38/38 [==============================] - 6s 145ms/step - loss: 0.0012\n",
      "Epoch 95/100\n",
      "38/38 [==============================] - 6s 145ms/step - loss: 0.0011\n",
      "Epoch 96/100\n",
      "38/38 [==============================] - 6s 145ms/step - loss: 0.0011\n",
      "Epoch 97/100\n",
      "38/38 [==============================] - 6s 149ms/step - loss: 0.0011\n",
      "Epoch 98/100\n",
      "38/38 [==============================] - 6s 152ms/step - loss: 0.0012\n",
      "Epoch 99/100\n",
      "38/38 [==============================] - 6s 148ms/step - loss: 0.0010\n",
      "Epoch 100/100\n",
      "38/38 [==============================] - 6s 156ms/step - loss: 0.0011\n"
     ]
    },
    {
     "data": {
      "text/plain": [
       "<keras.callbacks.History at 0x22d44439360>"
      ]
     },
     "execution_count": 28,
     "metadata": {},
     "output_type": "execute_result"
    }
   ],
   "source": [
    "# fitting the model\n",
    "regressor.compile(optimizer = 'adam', loss = 'mean_squared_error')\n",
    "regressor.fit(X_train, Y_train, epochs = 100, batch_size = 32)\n"
   ]
  },
  {
   "cell_type": "code",
   "execution_count": 30,
   "metadata": {},
   "outputs": [],
   "source": [
    "dataset_test = pd.read_csv(\"testset.csv\")\n",
    "actual_stock_price = dataset_test.iloc[:, 1:2].values"
   ]
  },
  {
   "cell_type": "code",
   "execution_count": 34,
   "metadata": {},
   "outputs": [],
   "source": [
    "# preparing input for the model\n",
    "dataset_total = pd.concat((dataset_train['Open'], dataset_test['Open']), axis = 0)\n",
    "inputs = dataset_total[len(dataset_total) - len(dataset_test) - 60:].values\n",
    "\n",
    "inputs = inputs.reshape(-1, 1)\n",
    "inputs = scaler.transform(inputs)\n",
    "\n",
    "X_test = []\n",
    "for i in range(60, 180):\n",
    "    X_test.append(inputs[i - 60:i, 0])\n",
    "X_test = np.array(X_test)\n",
    "X_test = np.reshape(X_test, (X_test.shape[0], X_test.shape[1], 1))"
   ]
  },
  {
   "cell_type": "code",
   "execution_count": 35,
   "metadata": {},
   "outputs": [],
   "source": [
    "predicted_stock_price = regressor.predict(X_test)\n",
    "predicted_stock_price = scaler.inverse_transform(predicted_stock_price)"
   ]
  },
  {
   "cell_type": "code",
   "execution_count": 36,
   "metadata": {},
   "outputs": [
    {
     "data": {
      "text/plain": [
       "<matplotlib.legend.Legend at 0x22d522f5a20>"
      ]
     },
     "execution_count": 36,
     "metadata": {},
     "output_type": "execute_result"
    },
    {
     "data": {
      "image/png": "[encoded data removed]",
      "text/plain": [
       "<Figure size 432x288 with 1 Axes>"
      ]
     },
     "metadata": {
      "needs_background": "light"
     },
     "output_type": "display_data"
    }
   ],
   "source": [
    "# plotting graphs\n",
    "\n",
    "plt.plot(actual_stock_price, color = 'red', label = 'Actual Google Stock Price')\n",
    "plt.plot(predicted_stock_price, color = 'blue', label = 'Predicted google Stock Price')\n",
    "plt.title('google Stock Price Prediction')\n",
    "plt.xlabel('Time')\n",
    "plt.ylabel('Google Stock Price')\n",
    "plt.legend()"
   ]
  }
 ],
 "metadata": {
  "kernelspec": {
   "display_name": "Python 3.10.7 64-bit",
   "language": "python",
   "name": "python3"
  },
  "language_info": {
   "codemirror_mode": {
    "name": "ipython",
    "version": 3
   },
   "file_extension": ".py",
   "mimetype": "text/x-python",
   "name": "python",
   "nbconvert_exporter": "python",
   "pygments_lexer": "ipython3",
   "version": "3.11.2"
  },
  "orig_nbformat": 4,
  "vscode": {
   "interpreter": {
    "hash": "63963b3f4c440940f0b94a3100916033a226cb4f45979123153792d60aa56d6a"
   }
  }
 },
 "nbformat": 4,
 "nbformat_minor": 2
}
